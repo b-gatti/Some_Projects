{
 "cells": [
  {
   "cell_type": "markdown",
   "id": "bc83459d",
   "metadata": {},
   "source": [
    "![SG_Banner](SG_Banner.png)"
   ]
  },
  {
   "cell_type": "markdown",
   "id": "aae3f81f",
   "metadata": {},
   "source": [
    "<center>Copyright by Super Genii, Inc.</center>\n",
    "<center><em>For more information, visit us at <a href='https://supergenii.com'>supergenii.com</a></em></center>"
   ]
  },
  {
   "cell_type": "markdown",
   "id": "f57feaec",
   "metadata": {},
   "source": [
    "# Project: Russian state-controlled TV coverage of 2014 Ukranian elections\n",
    "  \n",
    "\n",
    "## Overview\n",
    "The project examines the coverage of the 2014 Ukrainian parliamentary elections by Russian state-controlled television, against the backdrop of significant political and military turmoil. Leading up to the elections, Ukraine was embroiled in a crisis following the annexation of Crimea by Russia and the ensuing conflict in Eastern Ukraine. The areas near the Russian border, particularly the Donetsk and Luhansk regions, were hotbeds of separatist activity, heavily influenced by Russian support for the rebels. The project's focus is to analyze the effect of Russian media portrayals of these elections, considering the broader context of escalating tensions between Ukraine and Russia, the presence of Russian military forces, and the intense propaganda war aimed at shaping public opinion both domestically and internationally.\n",
    "\n",
    "\n",
    "## Goal\n",
    "The goal is to assess the impact of Russian TV reception on the 2014 Ukrainian parliamentary elections. This assessment is conducted on two levels. First, we examine individual-level survey data to determine its influence on a person's likelihood of voting for a pro-Russian party. Second, we evaluate aggregate-level data to gauge its effect on the vote share of pro-Russian parties at the precinct level. In both analyses, the focus is on regions near the Russian border.\n",
    "\n",
    "\n",
    "## The Data\n",
    "The dataset 'UA_survey' contains information from 358 respondents to a survey conducted a few months after the 2014 parliamentary election. The survey was conducted on a random sample of Ukrainians living in precincts within 50 km of the Russian border.\n",
    "\n",
    "The dataset 'UA_precincts.csv' comprises aggregate-level data from 3,589 precincts in three northeastern Ukrainian provinces: Chernihiv, Sumy, and Kharkiv. These provinces are unique among Ukrainian regions bordering Russia, as they did not close their polling stations due to the ongoing conflict. These are also the provinces where the survey respondents resided.\n",
    "\n",
    "\n",
    "Acknowledgements  \n",
    "Based on Leonid Peisakhlin and Arturas Rozenas, \"Electoral Effects of Biased Media: Russian Television in Ukraine,\" _American Journal of Political Science_ 62, no. 3 (2018): 535-50.\n",
    "\n",
    "(Datasets downloaded from http://press.princeton.edu/)"
   ]
  },
  {
   "cell_type": "markdown",
   "id": "3ff9f24b",
   "metadata": {},
   "source": [
    "## <div style=\"text-align: center\">Data Column Reference</div>\n",
    "\n",
    "UA_survey.csv:\n",
    "\n",
    "| **Variable** | **Description** |\n",
    "|:---------|:---------|\n",
    "| russian_tv | Identifies whether the respondent's precinct receives Russian TV: 1=reception, 0=no reception |\n",
    "| pro_russian_vote | Respondents' vote for a pro-Russian party in the 2014 parliamentary election: 1=voted for pro_russian party, 0=did not  |\n",
    "| within_25km | Identifies whether the respondent's precinct is located within 25 km of the Ukraine_Russia border: 1=it is within 25 km of the border, 0=it is not| \n",
    "\n",
    "\n",
    "UA_precincts.csv:\n",
    "\n",
    "| **Variable** | **Description** |\n",
    "|:---------|:---------|\n",
    "| russian_tv | Identifies precincts that receive Russian TV: 1=reception, 0=no reception |\n",
    "| pro_russian | Vote share received in the precinct by pro-Russian parties in the 2014 Ukrainian parliamentary election (in percentage)  |\n",
    "| prior_pro_russian | Vote share received in the precinct by pro-Russian parties in the 2012 Ukrainian parliamentary election (in percentage)  |\n",
    "| within_25km | Identifies precincts that are within 25 km of the Ukraine_Russia border: 1=it is within 25 km of the border, 0=it is not| "
   ]
  },
  {
   "cell_type": "markdown",
   "id": "fcde9192",
   "metadata": {},
   "source": [
    "-----"
   ]
  },
  {
   "cell_type": "markdown",
   "id": "ed2c209e",
   "metadata": {},
   "source": [
    "## Imports"
   ]
  },
  {
   "cell_type": "code",
   "execution_count": 2,
   "id": "1b3b0d34",
   "metadata": {},
   "outputs": [],
   "source": [
    "import pandas as pd\n",
    "import seaborn as sns\n",
    "import matplotlib.pyplot as plt\n",
    "import numpy as np"
   ]
  },
  {
   "cell_type": "code",
   "execution_count": 3,
   "id": "f27603dd",
   "metadata": {},
   "outputs": [],
   "source": [
    "from sklearn.model_selection import train_test_split\n",
    "from sklearn.linear_model import LinearRegression"
   ]
  },
  {
   "cell_type": "code",
   "execution_count": 4,
   "id": "eeb0d238",
   "metadata": {},
   "outputs": [],
   "source": [
    "import statsmodels.formula.api as smf"
   ]
  },
  {
   "cell_type": "markdown",
   "id": "b28e5067",
   "metadata": {},
   "source": [
    "## Get the data and display it"
   ]
  },
  {
   "cell_type": "code",
   "execution_count": 5,
   "id": "59e3f482",
   "metadata": {},
   "outputs": [],
   "source": [
    "survey = pd.read_csv('Data/UA_survey.csv')"
   ]
  },
  {
   "cell_type": "code",
   "execution_count": 6,
   "id": "f9f3d1bb",
   "metadata": {},
   "outputs": [
    {
     "data": {
      "text/html": [
       "<div>\n",
       "<style scoped>\n",
       "    .dataframe tbody tr th:only-of-type {\n",
       "        vertical-align: middle;\n",
       "    }\n",
       "\n",
       "    .dataframe tbody tr th {\n",
       "        vertical-align: top;\n",
       "    }\n",
       "\n",
       "    .dataframe thead th {\n",
       "        text-align: right;\n",
       "    }\n",
       "</style>\n",
       "<table border=\"1\" class=\"dataframe\">\n",
       "  <thead>\n",
       "    <tr style=\"text-align: right;\">\n",
       "      <th></th>\n",
       "      <th>russian_tv</th>\n",
       "      <th>pro_russian_vote</th>\n",
       "      <th>within_25km</th>\n",
       "    </tr>\n",
       "  </thead>\n",
       "  <tbody>\n",
       "    <tr>\n",
       "      <th>0</th>\n",
       "      <td>1</td>\n",
       "      <td>0</td>\n",
       "      <td>1</td>\n",
       "    </tr>\n",
       "    <tr>\n",
       "      <th>1</th>\n",
       "      <td>1</td>\n",
       "      <td>1</td>\n",
       "      <td>1</td>\n",
       "    </tr>\n",
       "    <tr>\n",
       "      <th>2</th>\n",
       "      <td>0</td>\n",
       "      <td>0</td>\n",
       "      <td>0</td>\n",
       "    </tr>\n",
       "    <tr>\n",
       "      <th>3</th>\n",
       "      <td>0</td>\n",
       "      <td>0</td>\n",
       "      <td>1</td>\n",
       "    </tr>\n",
       "    <tr>\n",
       "      <th>4</th>\n",
       "      <td>0</td>\n",
       "      <td>0</td>\n",
       "      <td>1</td>\n",
       "    </tr>\n",
       "  </tbody>\n",
       "</table>\n",
       "</div>"
      ],
      "text/plain": [
       "   russian_tv  pro_russian_vote  within_25km\n",
       "0           1                 0            1\n",
       "1           1                 1            1\n",
       "2           0                 0            0\n",
       "3           0                 0            1\n",
       "4           0                 0            1"
      ]
     },
     "execution_count": 6,
     "metadata": {},
     "output_type": "execute_result"
    }
   ],
   "source": [
    "survey.head()"
   ]
  },
  {
   "cell_type": "code",
   "execution_count": 7,
   "id": "aa7eacb3",
   "metadata": {},
   "outputs": [],
   "source": [
    "uap = pd.read_csv('Data/UA_precincts.csv')"
   ]
  },
  {
   "cell_type": "code",
   "execution_count": 8,
   "id": "6aeb4395",
   "metadata": {},
   "outputs": [
    {
     "data": {
      "text/html": [
       "<div>\n",
       "<style scoped>\n",
       "    .dataframe tbody tr th:only-of-type {\n",
       "        vertical-align: middle;\n",
       "    }\n",
       "\n",
       "    .dataframe tbody tr th {\n",
       "        vertical-align: top;\n",
       "    }\n",
       "\n",
       "    .dataframe thead th {\n",
       "        text-align: right;\n",
       "    }\n",
       "</style>\n",
       "<table border=\"1\" class=\"dataframe\">\n",
       "  <thead>\n",
       "    <tr style=\"text-align: right;\">\n",
       "      <th></th>\n",
       "      <th>russian_tv</th>\n",
       "      <th>pro_russian</th>\n",
       "      <th>prior_pro_russian</th>\n",
       "      <th>within_25km</th>\n",
       "    </tr>\n",
       "  </thead>\n",
       "  <tbody>\n",
       "    <tr>\n",
       "      <th>0</th>\n",
       "      <td>0</td>\n",
       "      <td>2.721088</td>\n",
       "      <td>25.142857</td>\n",
       "      <td>1</td>\n",
       "    </tr>\n",
       "    <tr>\n",
       "      <th>1</th>\n",
       "      <td>0</td>\n",
       "      <td>0.892857</td>\n",
       "      <td>35.344828</td>\n",
       "      <td>0</td>\n",
       "    </tr>\n",
       "    <tr>\n",
       "      <th>2</th>\n",
       "      <td>1</td>\n",
       "      <td>1.694915</td>\n",
       "      <td>20.532319</td>\n",
       "      <td>1</td>\n",
       "    </tr>\n",
       "    <tr>\n",
       "      <th>3</th>\n",
       "      <td>0</td>\n",
       "      <td>72.268908</td>\n",
       "      <td>84.477612</td>\n",
       "      <td>1</td>\n",
       "    </tr>\n",
       "    <tr>\n",
       "      <th>4</th>\n",
       "      <td>0</td>\n",
       "      <td>1.282051</td>\n",
       "      <td>28.994083</td>\n",
       "      <td>0</td>\n",
       "    </tr>\n",
       "  </tbody>\n",
       "</table>\n",
       "</div>"
      ],
      "text/plain": [
       "   russian_tv  pro_russian  prior_pro_russian  within_25km\n",
       "0           0     2.721088          25.142857            1\n",
       "1           0     0.892857          35.344828            0\n",
       "2           1     1.694915          20.532319            1\n",
       "3           0    72.268908          84.477612            1\n",
       "4           0     1.282051          28.994083            0"
      ]
     },
     "execution_count": 8,
     "metadata": {},
     "output_type": "execute_result"
    }
   ],
   "source": [
    "uap.head()"
   ]
  },
  {
   "cell_type": "markdown",
   "id": "fb87beae",
   "metadata": {},
   "source": [
    "## Clean the data"
   ]
  },
  {
   "cell_type": "markdown",
   "id": "46fbc5f2",
   "metadata": {},
   "source": [
    "Both datasets have already been cleaned and prepared for estimating causal effects with observational data."
   ]
  },
  {
   "cell_type": "markdown",
   "id": "f58b112f",
   "metadata": {},
   "source": [
    "### Examine the data"
   ]
  },
  {
   "cell_type": "code",
   "execution_count": 9,
   "id": "ba31dfaa",
   "metadata": {},
   "outputs": [
    {
     "name": "stdout",
     "output_type": "stream",
     "text": [
      "<class 'pandas.core.frame.DataFrame'>\n",
      "RangeIndex: 358 entries, 0 to 357\n",
      "Data columns (total 3 columns):\n",
      " #   Column            Non-Null Count  Dtype\n",
      "---  ------            --------------  -----\n",
      " 0   russian_tv        358 non-null    int64\n",
      " 1   pro_russian_vote  358 non-null    int64\n",
      " 2   within_25km       358 non-null    int64\n",
      "dtypes: int64(3)\n",
      "memory usage: 8.5 KB\n"
     ]
    }
   ],
   "source": [
    "survey.info()"
   ]
  },
  {
   "cell_type": "code",
   "execution_count": 10,
   "id": "e8aa8867",
   "metadata": {},
   "outputs": [
    {
     "name": "stdout",
     "output_type": "stream",
     "text": [
      "<class 'pandas.core.frame.DataFrame'>\n",
      "RangeIndex: 3589 entries, 0 to 3588\n",
      "Data columns (total 4 columns):\n",
      " #   Column             Non-Null Count  Dtype  \n",
      "---  ------             --------------  -----  \n",
      " 0   russian_tv         3589 non-null   int64  \n",
      " 1   pro_russian        3589 non-null   float64\n",
      " 2   prior_pro_russian  3589 non-null   float64\n",
      " 3   within_25km        3589 non-null   int64  \n",
      "dtypes: float64(2), int64(2)\n",
      "memory usage: 112.3 KB\n"
     ]
    }
   ],
   "source": [
    "uap.info()"
   ]
  },
  {
   "cell_type": "markdown",
   "id": "06e9106e",
   "metadata": {},
   "source": [
    "<u>Potential problems:</u>\n",
    "- no null/missing values"
   ]
  },
  {
   "cell_type": "markdown",
   "id": "3271aff5",
   "metadata": {},
   "source": [
    "-----"
   ]
  },
  {
   "cell_type": "markdown",
   "id": "7561e101",
   "metadata": {},
   "source": [
    "## Individual-level analysis"
   ]
  },
  {
   "cell_type": "markdown",
   "id": "8db21e12",
   "metadata": {},
   "source": [
    "## Use the simple linear model to compute the difference-in-means estimator"
   ]
  },
  {
   "cell_type": "code",
   "execution_count": 11,
   "id": "e5430524",
   "metadata": {},
   "outputs": [
    {
     "data": {
      "text/plain": [
       "0.1191139240506329"
      ]
     },
     "execution_count": 11,
     "metadata": {},
     "output_type": "execute_result"
    }
   ],
   "source": [
    "# calculate the difference-in-means estimator\n",
    "survey[survey['russian_tv'] == 1]['pro_russian_vote'].mean() - survey[survey['russian_tv'] == 0]['pro_russian_vote'].mean()"
   ]
  },
  {
   "cell_type": "code",
   "execution_count": 12,
   "id": "6d74b943",
   "metadata": {},
   "outputs": [
    {
     "data": {
      "text/html": [
       "<table class=\"simpletable\">\n",
       "<caption>OLS Regression Results</caption>\n",
       "<tr>\n",
       "  <th>Dep. Variable:</th>    <td>pro_russian_vote</td> <th>  R-squared:         </th> <td>   0.019</td>\n",
       "</tr>\n",
       "<tr>\n",
       "  <th>Model:</th>                   <td>OLS</td>       <th>  Adj. R-squared:    </th> <td>   0.017</td>\n",
       "</tr>\n",
       "<tr>\n",
       "  <th>No. Observations:</th>      <td>   358</td>      <th>  F-statistic:       </th> <td>   7.014</td>\n",
       "</tr>\n",
       "<tr>\n",
       "  <th>Covariance Type:</th>      <td>nonrobust</td>    <th>  Prob (F-statistic):</th>  <td>0.00845</td>\n",
       "</tr>\n",
       "</table>\n",
       "<table class=\"simpletable\">\n",
       "<tr>\n",
       "       <td></td>         <th>coef</th>     <th>std err</th>      <th>t</th>      <th>P>|t|</th>  <th>[0.025</th>    <th>0.975]</th>  \n",
       "</tr>\n",
       "<tr>\n",
       "  <th>Intercept</th>  <td>    0.1709</td> <td>    0.034</td> <td>    5.083</td> <td> 0.000</td> <td>    0.105</td> <td>    0.237</td>\n",
       "</tr>\n",
       "<tr>\n",
       "  <th>russian_tv</th> <td>    0.1191</td> <td>    0.045</td> <td>    2.648</td> <td> 0.008</td> <td>    0.031</td> <td>    0.208</td>\n",
       "</tr>\n",
       "</table><br/><br/>Notes:<br/>[1] Standard Errors assume that the covariance matrix of the errors is correctly specified."
      ],
      "text/plain": [
       "<class 'statsmodels.iolib.summary.Summary'>\n",
       "\"\"\"\n",
       "                            OLS Regression Results                            \n",
       "==============================================================================\n",
       "Dep. Variable:       pro_russian_vote   R-squared:                       0.019\n",
       "Model:                            OLS   Adj. R-squared:                  0.017\n",
       "No. Observations:                 358   F-statistic:                     7.014\n",
       "Covariance Type:            nonrobust   Prob (F-statistic):            0.00845\n",
       "==============================================================================\n",
       "                 coef    std err          t      P>|t|      [0.025      0.975]\n",
       "------------------------------------------------------------------------------\n",
       "Intercept      0.1709      0.034      5.083      0.000       0.105       0.237\n",
       "russian_tv     0.1191      0.045      2.648      0.008       0.031       0.208\n",
       "==============================================================================\n",
       "\n",
       "Notes:\n",
       "[1] Standard Errors assume that the covariance matrix of the errors is correctly specified.\n",
       "\"\"\""
      ]
     },
     "execution_count": 12,
     "metadata": {},
     "output_type": "execute_result"
    }
   ],
   "source": [
    "smf.ols('pro_russian_vote ~ russian_tv', data=survey).fit().summary(slim=True)"
   ]
  },
  {
   "cell_type": "markdown",
   "id": "5ac4a8ef",
   "metadata": {},
   "source": [
    "#### Fitted linear model            \n",
    "$\\widehat{pro-russian-vote}$ = 0.1709 + 0.1191 _russian_tv_"
   ]
  },
  {
   "cell_type": "markdown",
   "id": "ab8e0f8a",
   "metadata": {},
   "source": [
    "The value 0.1191 $\\approx$ 0.12 (equivalent to the difference-in-means estimator) estimates that receiving Russian TV (as compared to not receiving it) increased a respondent's probability of voting for a pro_Russian party by 12 percentage points, on average."
   ]
  },
  {
   "cell_type": "markdown",
   "id": "530e6055",
   "metadata": {},
   "source": [
    "The validity of the above conclusion depends on the absence of confounding variables."
   ]
  },
  {
   "cell_type": "markdown",
   "id": "07db4e95",
   "metadata": {},
   "source": [
    "-----"
   ]
  },
  {
   "cell_type": "markdown",
   "id": "713a8039",
   "metadata": {},
   "source": [
    "## Control for confounders using a multiple linear regression model"
   ]
  },
  {
   "cell_type": "markdown",
   "id": "415609b2",
   "metadata": {},
   "source": [
    "### Identify confounder"
   ]
  },
  {
   "cell_type": "code",
   "execution_count": 13,
   "id": "efff41c1",
   "metadata": {},
   "outputs": [
    {
     "data": {
      "text/html": [
       "<div>\n",
       "<style scoped>\n",
       "    .dataframe tbody tr th:only-of-type {\n",
       "        vertical-align: middle;\n",
       "    }\n",
       "\n",
       "    .dataframe tbody tr th {\n",
       "        vertical-align: top;\n",
       "    }\n",
       "\n",
       "    .dataframe thead th {\n",
       "        text-align: right;\n",
       "    }\n",
       "</style>\n",
       "<table border=\"1\" class=\"dataframe\">\n",
       "  <thead>\n",
       "    <tr style=\"text-align: right;\">\n",
       "      <th></th>\n",
       "      <th>within_25km</th>\n",
       "      <th>russian_tv</th>\n",
       "    </tr>\n",
       "  </thead>\n",
       "  <tbody>\n",
       "    <tr>\n",
       "      <th>within_25km</th>\n",
       "      <td>1.000000</td>\n",
       "      <td>0.812775</td>\n",
       "    </tr>\n",
       "    <tr>\n",
       "      <th>russian_tv</th>\n",
       "      <td>0.812775</td>\n",
       "      <td>1.000000</td>\n",
       "    </tr>\n",
       "  </tbody>\n",
       "</table>\n",
       "</div>"
      ],
      "text/plain": [
       "             within_25km  russian_tv\n",
       "within_25km     1.000000    0.812775\n",
       "russian_tv      0.812775    1.000000"
      ]
     },
     "execution_count": 13,
     "metadata": {},
     "output_type": "execute_result"
    }
   ],
   "source": [
    "survey[['within_25km','russian_tv']].corr()"
   ]
  },
  {
   "cell_type": "markdown",
   "id": "d8770e11",
   "metadata": {},
   "source": [
    "The correlation coefficient between the two variables is 0.81. 'within_25km' and 'russian_tv' are highly correlated."
   ]
  },
  {
   "cell_type": "code",
   "execution_count": 14,
   "id": "8dcee02f",
   "metadata": {},
   "outputs": [
    {
     "data": {
      "text/html": [
       "<div>\n",
       "<style scoped>\n",
       "    .dataframe tbody tr th:only-of-type {\n",
       "        vertical-align: middle;\n",
       "    }\n",
       "\n",
       "    .dataframe tbody tr th {\n",
       "        vertical-align: top;\n",
       "    }\n",
       "\n",
       "    .dataframe thead th {\n",
       "        text-align: right;\n",
       "    }\n",
       "</style>\n",
       "<table border=\"1\" class=\"dataframe\">\n",
       "  <thead>\n",
       "    <tr style=\"text-align: right;\">\n",
       "      <th>russian_tv</th>\n",
       "      <th>0</th>\n",
       "      <th>1</th>\n",
       "      <th>All respondents</th>\n",
       "    </tr>\n",
       "    <tr>\n",
       "      <th>within_25km</th>\n",
       "      <th></th>\n",
       "      <th></th>\n",
       "      <th></th>\n",
       "    </tr>\n",
       "  </thead>\n",
       "  <tbody>\n",
       "    <tr>\n",
       "      <th>0</th>\n",
       "      <td>139</td>\n",
       "      <td>14</td>\n",
       "      <td>153</td>\n",
       "    </tr>\n",
       "    <tr>\n",
       "      <th>1</th>\n",
       "      <td>19</td>\n",
       "      <td>186</td>\n",
       "      <td>205</td>\n",
       "    </tr>\n",
       "    <tr>\n",
       "      <th>All respondents</th>\n",
       "      <td>158</td>\n",
       "      <td>200</td>\n",
       "      <td>358</td>\n",
       "    </tr>\n",
       "  </tbody>\n",
       "</table>\n",
       "</div>"
      ],
      "text/plain": [
       "russian_tv         0    1  All respondents\n",
       "within_25km                               \n",
       "0                139   14              153\n",
       "1                 19  186              205\n",
       "All respondents  158  200              358"
      ]
     },
     "execution_count": 14,
     "metadata": {},
     "output_type": "execute_result"
    }
   ],
   "source": [
    "# create two-way table of frequencies\n",
    "pd.crosstab(survey['within_25km'], survey['russian_tv'], margins=True, margins_name='All respondents')"
   ]
  },
  {
   "cell_type": "code",
   "execution_count": 15,
   "id": "30956b5b",
   "metadata": {},
   "outputs": [
    {
     "data": {
      "text/html": [
       "<div>\n",
       "<style scoped>\n",
       "    .dataframe tbody tr th:only-of-type {\n",
       "        vertical-align: middle;\n",
       "    }\n",
       "\n",
       "    .dataframe tbody tr th {\n",
       "        vertical-align: top;\n",
       "    }\n",
       "\n",
       "    .dataframe thead th {\n",
       "        text-align: right;\n",
       "    }\n",
       "</style>\n",
       "<table border=\"1\" class=\"dataframe\">\n",
       "  <thead>\n",
       "    <tr style=\"text-align: right;\">\n",
       "      <th>russian_tv</th>\n",
       "      <th>0</th>\n",
       "      <th>1</th>\n",
       "    </tr>\n",
       "    <tr>\n",
       "      <th>within_25km</th>\n",
       "      <th></th>\n",
       "      <th></th>\n",
       "    </tr>\n",
       "  </thead>\n",
       "  <tbody>\n",
       "    <tr>\n",
       "      <th>0</th>\n",
       "      <td>90.8</td>\n",
       "      <td>9.2</td>\n",
       "    </tr>\n",
       "    <tr>\n",
       "      <th>1</th>\n",
       "      <td>9.3</td>\n",
       "      <td>90.7</td>\n",
       "    </tr>\n",
       "    <tr>\n",
       "      <th>All respondents</th>\n",
       "      <td>44.1</td>\n",
       "      <td>55.9</td>\n",
       "    </tr>\n",
       "  </tbody>\n",
       "</table>\n",
       "</div>"
      ],
      "text/plain": [
       "russian_tv          0     1\n",
       "within_25km                \n",
       "0                90.8   9.2\n",
       "1                 9.3  90.7\n",
       "All respondents  44.1  55.9"
      ]
     },
     "execution_count": 15,
     "metadata": {},
     "output_type": "execute_result"
    }
   ],
   "source": [
    "round(pd.crosstab(survey['within_25km'], survey['russian_tv'], margins=True, \n",
    "                  margins_name='All respondents', normalize='index') * 100, 1)"
   ]
  },
  {
   "cell_type": "markdown",
   "id": "32b672e6",
   "metadata": {},
   "source": [
    "Among respondents living within 25 km of the border, about 91% are in a precinct that receives Russian TV. In contrast, among respondents living more than 25 km away from the border, about 9% are in a precinct that receives Russian TV. We can conclude that compared to Ukrainians living further away from the border, those living very close to it are more likely to receive Russian TV. \n",
    "\n",
    "Living within 25 km from the border affects the treatment variable 'russian_tv.'"
   ]
  },
  {
   "cell_type": "code",
   "execution_count": 16,
   "id": "26e610f0",
   "metadata": {
    "scrolled": true
   },
   "outputs": [
    {
     "data": {
      "text/html": [
       "<div>\n",
       "<style scoped>\n",
       "    .dataframe tbody tr th:only-of-type {\n",
       "        vertical-align: middle;\n",
       "    }\n",
       "\n",
       "    .dataframe tbody tr th {\n",
       "        vertical-align: top;\n",
       "    }\n",
       "\n",
       "    .dataframe thead th {\n",
       "        text-align: right;\n",
       "    }\n",
       "</style>\n",
       "<table border=\"1\" class=\"dataframe\">\n",
       "  <thead>\n",
       "    <tr style=\"text-align: right;\">\n",
       "      <th></th>\n",
       "      <th>within_25km</th>\n",
       "      <th>pro_russian_vote</th>\n",
       "    </tr>\n",
       "  </thead>\n",
       "  <tbody>\n",
       "    <tr>\n",
       "      <th>within_25km</th>\n",
       "      <td>1.000000</td>\n",
       "      <td>0.030877</td>\n",
       "    </tr>\n",
       "    <tr>\n",
       "      <th>pro_russian_vote</th>\n",
       "      <td>0.030877</td>\n",
       "      <td>1.000000</td>\n",
       "    </tr>\n",
       "  </tbody>\n",
       "</table>\n",
       "</div>"
      ],
      "text/plain": [
       "                  within_25km  pro_russian_vote\n",
       "within_25km          1.000000          0.030877\n",
       "pro_russian_vote     0.030877          1.000000"
      ]
     },
     "execution_count": 16,
     "metadata": {},
     "output_type": "execute_result"
    }
   ],
   "source": [
    "survey[['within_25km','pro_russian_vote']].corr()"
   ]
  },
  {
   "cell_type": "markdown",
   "id": "125d0048",
   "metadata": {},
   "source": [
    "The correlation coefficient indicates a very weak positive linear relationship, which is likely not significant in practical terms."
   ]
  },
  {
   "cell_type": "code",
   "execution_count": 17,
   "id": "1fd0554e",
   "metadata": {},
   "outputs": [
    {
     "data": {
      "text/html": [
       "<div>\n",
       "<style scoped>\n",
       "    .dataframe tbody tr th:only-of-type {\n",
       "        vertical-align: middle;\n",
       "    }\n",
       "\n",
       "    .dataframe tbody tr th {\n",
       "        vertical-align: top;\n",
       "    }\n",
       "\n",
       "    .dataframe thead th {\n",
       "        text-align: right;\n",
       "    }\n",
       "</style>\n",
       "<table border=\"1\" class=\"dataframe\">\n",
       "  <thead>\n",
       "    <tr style=\"text-align: right;\">\n",
       "      <th>within_25km</th>\n",
       "      <th>0</th>\n",
       "      <th>1</th>\n",
       "    </tr>\n",
       "    <tr>\n",
       "      <th>pro_russian_vote</th>\n",
       "      <th></th>\n",
       "      <th></th>\n",
       "    </tr>\n",
       "  </thead>\n",
       "  <tbody>\n",
       "    <tr>\n",
       "      <th>0</th>\n",
       "      <td>77.8</td>\n",
       "      <td>75.1</td>\n",
       "    </tr>\n",
       "    <tr>\n",
       "      <th>1</th>\n",
       "      <td>22.2</td>\n",
       "      <td>24.9</td>\n",
       "    </tr>\n",
       "  </tbody>\n",
       "</table>\n",
       "</div>"
      ],
      "text/plain": [
       "within_25km          0     1\n",
       "pro_russian_vote            \n",
       "0                 77.8  75.1\n",
       "1                 22.2  24.9"
      ]
     },
     "execution_count": 17,
     "metadata": {},
     "output_type": "execute_result"
    }
   ],
   "source": [
    "round(pd.crosstab(survey['pro_russian_vote'], survey['within_25km'], normalize='columns') * 100, 1)"
   ]
  },
  {
   "cell_type": "markdown",
   "id": "0041e1b3",
   "metadata": {},
   "source": [
    "There is a small positive difference (+2.7 percentage points) in the proportion of respondents voting for pro-Russian parties between those living within 25 kilometers of the border and those living 25 to 50 kilometers away. "
   ]
  },
  {
   "cell_type": "markdown",
   "id": "36edf151",
   "metadata": {},
   "source": [
    "#### Test for independence between pro_russian_vote and within_25km"
   ]
  },
  {
   "cell_type": "code",
   "execution_count": 18,
   "id": "325f711a",
   "metadata": {},
   "outputs": [
    {
     "name": "stdout",
     "output_type": "stream",
     "text": [
      "Odds Ratio: 1.1590909090909092\n",
      "P-Value: 0.6161913141282975\n"
     ]
    }
   ],
   "source": [
    "# Use Fisher's Exact Test\n",
    "\n",
    "from scipy.stats import fisher_exact\n",
    "\n",
    "# Example contingency table\n",
    "contingency_table = pd.crosstab(survey['pro_russian_vote'], survey['within_25km'])\n",
    "\n",
    "# Perform Fisher's exact test\n",
    "odds_ratio, p_value = fisher_exact(contingency_table)\n",
    "\n",
    "print(\"Odds Ratio:\", odds_ratio)\n",
    "print(\"P-Value:\", p_value)\n"
   ]
  },
  {
   "cell_type": "code",
   "execution_count": 19,
   "id": "4cb7b609",
   "metadata": {},
   "outputs": [
    {
     "name": "stdout",
     "output_type": "stream",
     "text": [
      "Observed chi2: 0.2104\n",
      "p-value: 0.6465\n"
     ]
    }
   ],
   "source": [
    "# Use chi-square test\n",
    "\n",
    "import scipy.stats as stats\n",
    "\n",
    "chisq, pvalue, df, expected = stats.chi2_contingency(contingency_table)\n",
    "print(f'Observed chi2: {chisq:.4f}')\n",
    "print(f'p-value: {pvalue:.4f}')"
   ]
  },
  {
   "cell_type": "markdown",
   "id": "c7172394",
   "metadata": {},
   "source": [
    "The above tests allow us to conclude that observed data counts for 'pro_russian_vote' and 'within_25km' are consistent with an assumption of indipendence."
   ]
  },
  {
   "cell_type": "markdown",
   "id": "36228d61",
   "metadata": {},
   "source": [
    "Living close to the Russia-Ukraine border could plausibly have influenced the vote for pro-Russian parties in the 2014 Ukrainian parliamentary elections for several reasons:\n",
    "\n",
    "- Cultural and Historical Ties\n",
    "- Economic Dependence\n",
    "- Security Concerns\n",
    "- Ethnic Composition\n",
    "- Political Legacy\n",
    "\n",
    "These factors combined create a plausible scenario where very close proximity to the Russia-Ukraine border could significantly influence voters to support pro-Russian parties in the 2014 parliamentary elections."
   ]
  },
  {
   "cell_type": "code",
   "execution_count": 19,
   "id": "3ba969e2",
   "metadata": {},
   "outputs": [
    {
     "data": {
      "image/png": "[encoded data removed]",
      "text/plain": [
       "<Figure size 599.611x500 with 6 Axes>"
      ]
     },
     "metadata": {},
     "output_type": "display_data"
    }
   ],
   "source": [
    "# using pairplot to check for confounding variables? Helpful?\n",
    "\n",
    "sns.pairplot(survey, hue='within_25km');"
   ]
  },
  {
   "cell_type": "markdown",
   "id": "651a8c01",
   "metadata": {},
   "source": [
    "#### For the purpose of this analysis we we consider the variable 'within_25km' as a confounder."
   ]
  },
  {
   "cell_type": "markdown",
   "id": "753dfe2c",
   "metadata": {},
   "source": [
    "### Estimate average causal effect using observational data and a multiple linear regression model"
   ]
  },
  {
   "cell_type": "code",
   "execution_count": 17,
   "id": "9863e488",
   "metadata": {},
   "outputs": [
    {
     "data": {
      "text/html": [
       "<table class=\"simpletable\">\n",
       "<caption>OLS Regression Results</caption>\n",
       "<tr>\n",
       "  <th>Dep. Variable:</th>    <td>pro_russian_vote</td> <th>  R-squared:         </th> <td>   0.039</td>\n",
       "</tr>\n",
       "<tr>\n",
       "  <th>Model:</th>                   <td>OLS</td>       <th>  Adj. R-squared:    </th> <td>   0.034</td>\n",
       "</tr>\n",
       "<tr>\n",
       "  <th>No. Observations:</th>      <td>   358</td>      <th>  F-statistic:       </th> <td>   7.238</td>\n",
       "</tr>\n",
       "<tr>\n",
       "  <th>Covariance Type:</th>      <td>nonrobust</td>    <th>  Prob (F-statistic):</th> <td>0.000830</td>\n",
       "</tr>\n",
       "</table>\n",
       "<table class=\"simpletable\">\n",
       "<tr>\n",
       "       <td></td>          <th>coef</th>     <th>std err</th>      <th>t</th>      <th>P>|t|</th>  <th>[0.025</th>    <th>0.975]</th>  \n",
       "</tr>\n",
       "<tr>\n",
       "  <th>Intercept</th>   <td>    0.1959</td> <td>    0.035</td> <td>    5.666</td> <td> 0.000</td> <td>    0.128</td> <td>    0.264</td>\n",
       "</tr>\n",
       "<tr>\n",
       "  <th>russian_tv</th>  <td>    0.2876</td> <td>    0.077</td> <td>    3.758</td> <td> 0.000</td> <td>    0.137</td> <td>    0.438</td>\n",
       "</tr>\n",
       "<tr>\n",
       "  <th>within_25km</th> <td>   -0.2081</td> <td>    0.077</td> <td>   -2.709</td> <td> 0.007</td> <td>   -0.359</td> <td>   -0.057</td>\n",
       "</tr>\n",
       "</table><br/><br/>Notes:<br/>[1] Standard Errors assume that the covariance matrix of the errors is correctly specified."
      ],
      "text/plain": [
       "<class 'statsmodels.iolib.summary.Summary'>\n",
       "\"\"\"\n",
       "                            OLS Regression Results                            \n",
       "==============================================================================\n",
       "Dep. Variable:       pro_russian_vote   R-squared:                       0.039\n",
       "Model:                            OLS   Adj. R-squared:                  0.034\n",
       "No. Observations:                 358   F-statistic:                     7.238\n",
       "Covariance Type:            nonrobust   Prob (F-statistic):           0.000830\n",
       "===============================================================================\n",
       "                  coef    std err          t      P>|t|      [0.025      0.975]\n",
       "-------------------------------------------------------------------------------\n",
       "Intercept       0.1959      0.035      5.666      0.000       0.128       0.264\n",
       "russian_tv      0.2876      0.077      3.758      0.000       0.137       0.438\n",
       "within_25km    -0.2081      0.077     -2.709      0.007      -0.359      -0.057\n",
       "===============================================================================\n",
       "\n",
       "Notes:\n",
       "[1] Standard Errors assume that the covariance matrix of the errors is correctly specified.\n",
       "\"\"\""
      ]
     },
     "execution_count": 17,
     "metadata": {},
     "output_type": "execute_result"
    }
   ],
   "source": [
    "model = smf.ols('pro_russian_vote ~ russian_tv + within_25km', data=survey).fit()\n",
    "\n",
    "# print the summary which includes coefficients\n",
    "model.summary(slim=True)"
   ]
  },
  {
   "cell_type": "markdown",
   "id": "5ee3568c",
   "metadata": {},
   "source": [
    "#### Fitted linear model            \n",
    "$\\widehat{pro-russian-vote}$ = 0.1959 + 0.2876 _russian_tv_ -0.2081 _within_25km_"
   ]
  },
  {
   "cell_type": "markdown",
   "id": "6c59e94a",
   "metadata": {},
   "source": [
    "#### When we hold living very close to the border constant, receiving Russian TV (as compared to not receiving it) increased a respondent's probability of voting for a pro-Russian party by $\\approx$ 29 percentage points, on average."
   ]
  },
  {
   "cell_type": "markdown",
   "id": "b580cf71",
   "metadata": {},
   "source": [
    "The accuracy of this causal interpretation hinges on whether residing extremely close to the border is the sole confounding factor. If other confounding variables exist, the validity of this estimate of the average treatment effect would be compromised."
   ]
  },
  {
   "cell_type": "markdown",
   "id": "7830140c",
   "metadata": {},
   "source": [
    "Can we conclude that the average treatment effect is not zero at the population level (that is, across _all_ Ukrainians who live near the border with Russia)?  \n",
    "Let $\\beta_1$ represent the average treatment effect (receiving Russian TV)."
   ]
  },
  {
   "cell_type": "markdown",
   "id": "b7281a3c",
   "metadata": {},
   "source": [
    "#### Two-Tailed Test at 5% Significance Level"
   ]
  },
  {
   "cell_type": "markdown",
   "id": "0481528e",
   "metadata": {},
   "source": [
    "null hypothesis $\\quad \\quad \\quad$        $N_0$: $\\beta_1 = 0$ \n",
    "\n",
    "alternative hypothesis$\\quad$ $N_1$: $\\beta_1 \\neq 0$"
   ]
  },
  {
   "cell_type": "code",
   "execution_count": 18,
   "id": "b175d3cf",
   "metadata": {},
   "outputs": [
    {
     "data": {
      "text/html": [
       "<table class=\"simpletable\">\n",
       "<caption>OLS Regression Results</caption>\n",
       "<tr>\n",
       "  <th>Dep. Variable:</th>    <td>pro_russian_vote</td> <th>  R-squared:         </th> <td>   0.039</td>\n",
       "</tr>\n",
       "<tr>\n",
       "  <th>Model:</th>                   <td>OLS</td>       <th>  Adj. R-squared:    </th> <td>   0.034</td>\n",
       "</tr>\n",
       "<tr>\n",
       "  <th>No. Observations:</th>      <td>   358</td>      <th>  F-statistic:       </th> <td>   7.238</td>\n",
       "</tr>\n",
       "<tr>\n",
       "  <th>Covariance Type:</th>      <td>nonrobust</td>    <th>  Prob (F-statistic):</th> <td>0.000830</td>\n",
       "</tr>\n",
       "</table>\n",
       "<table class=\"simpletable\">\n",
       "<tr>\n",
       "       <td></td>          <th>coef</th>     <th>std err</th>      <th>t</th>      <th>P>|t|</th>  <th>[0.025</th>    <th>0.975]</th>  \n",
       "</tr>\n",
       "<tr>\n",
       "  <th>Intercept</th>   <td>    0.1959</td> <td>    0.035</td> <td>    5.666</td> <td> 0.000</td> <td>    0.128</td> <td>    0.264</td>\n",
       "</tr>\n",
       "<tr>\n",
       "  <th>russian_tv</th>  <td>    0.2876</td> <td>    0.077</td> <td>    3.758</td> <td> 0.000</td> <td>    0.137</td> <td>    0.438</td>\n",
       "</tr>\n",
       "<tr>\n",
       "  <th>within_25km</th> <td>   -0.2081</td> <td>    0.077</td> <td>   -2.709</td> <td> 0.007</td> <td>   -0.359</td> <td>   -0.057</td>\n",
       "</tr>\n",
       "</table><br/><br/>Notes:<br/>[1] Standard Errors assume that the covariance matrix of the errors is correctly specified."
      ],
      "text/plain": [
       "<class 'statsmodels.iolib.summary.Summary'>\n",
       "\"\"\"\n",
       "                            OLS Regression Results                            \n",
       "==============================================================================\n",
       "Dep. Variable:       pro_russian_vote   R-squared:                       0.039\n",
       "Model:                            OLS   Adj. R-squared:                  0.034\n",
       "No. Observations:                 358   F-statistic:                     7.238\n",
       "Covariance Type:            nonrobust   Prob (F-statistic):           0.000830\n",
       "===============================================================================\n",
       "                  coef    std err          t      P>|t|      [0.025      0.975]\n",
       "-------------------------------------------------------------------------------\n",
       "Intercept       0.1959      0.035      5.666      0.000       0.128       0.264\n",
       "russian_tv      0.2876      0.077      3.758      0.000       0.137       0.438\n",
       "within_25km    -0.2081      0.077     -2.709      0.007      -0.359      -0.057\n",
       "===============================================================================\n",
       "\n",
       "Notes:\n",
       "[1] Standard Errors assume that the covariance matrix of the errors is correctly specified.\n",
       "\"\"\""
      ]
     },
     "execution_count": 18,
     "metadata": {},
     "output_type": "execute_result"
    }
   ],
   "source": [
    "model.summary(slim=True)"
   ]
  },
  {
   "cell_type": "markdown",
   "id": "58917fc2",
   "metadata": {},
   "source": [
    "Based on the table of results above, the value of the test statistic associated with $\\beta_1$ is 3.758. Since the absolute value of the test statistic is greater than 1.96 (the critical value for the 5% level), we reject the null hypothesis at the 5% significance level."
   ]
  },
  {
   "cell_type": "markdown",
   "id": "d86e63b4",
   "metadata": {},
   "source": [
    "The associated p-value in the table above is indicated as 0.000. Since it is smaller than 5%, here too we reject the null hypothesis and determine that the effect is statistically significant at the 5% level."
   ]
  },
  {
   "cell_type": "markdown",
   "id": "95fc8774",
   "metadata": {},
   "source": [
    "We conclude that receiving Russian TV likely had a non-zero average causal effect on the probability of voting for a pro-Russian party for _all_ Ukrainians living close to the border with Russian, not just for those who partivipated in the survey.  \n",
    "Let's analyze data at an aggregate-level."
   ]
  },
  {
   "cell_type": "markdown",
   "id": "0775eac3",
   "metadata": {},
   "source": [
    "-----"
   ]
  },
  {
   "cell_type": "markdown",
   "id": "cd11572e",
   "metadata": {},
   "source": [
    "## Aggregate-level analysis: Can we find a similar causal relationship at the aggregate level?"
   ]
  },
  {
   "cell_type": "markdown",
   "id": "ee068392",
   "metadata": {},
   "source": [
    "Treatment variable 'russian_tv' is measured at the precinct level. The treatment took place between the 2012 and 2014 elections. Therefore, the outcome variable is defined as the change in the vote share received by pro-Russian parties between the 2012 and 2014 elections."
   ]
  },
  {
   "cell_type": "code",
   "execution_count": 33,
   "id": "dcf86077",
   "metadata": {},
   "outputs": [],
   "source": [
    "# create outcome variable 'pro_russian_change'\n",
    "\n",
    "uap['pro_russian_change'] = uap['pro_russian'] - uap['prior_pro_russian']"
   ]
  },
  {
   "cell_type": "code",
   "execution_count": 34,
   "id": "018cffdf",
   "metadata": {},
   "outputs": [
    {
     "data": {
      "image/png": "[encoded data removed]",
      "text/plain": [
       "<Figure size 640x480 with 1 Axes>"
      ]
     },
     "metadata": {},
     "output_type": "display_data"
    }
   ],
   "source": [
    "# plot the histogram\n",
    "sns.histplot(data=uap, x='pro_russian_change', bins=20)\n",
    "plt.title('Vote share received by pro-Russian parties decreased between the 2012 and 2014 elections');"
   ]
  },
  {
   "cell_type": "markdown",
   "id": "2cffec2e",
   "metadata": {},
   "source": [
    "### Question: Did the reception of Russian TV cause a smaller decline in the precinct-level vote share for pro-Russian parties?"
   ]
  },
  {
   "cell_type": "markdown",
   "id": "766b0b00",
   "metadata": {},
   "source": [
    "-----"
   ]
  },
  {
   "cell_type": "markdown",
   "id": "d0628dce",
   "metadata": {},
   "source": [
    "## Use the simple linear model to compute the difference-in-means estimator"
   ]
  },
  {
   "cell_type": "code",
   "execution_count": 35,
   "id": "2c609e99",
   "metadata": {
    "scrolled": true
   },
   "outputs": [
    {
     "data": {
      "text/html": [
       "<table class=\"simpletable\">\n",
       "<caption>OLS Regression Results</caption>\n",
       "<tr>\n",
       "  <th>Dep. Variable:</th>    <td>pro_russian_change</td> <th>  R-squared:         </th> <td>   0.004</td>\n",
       "</tr>\n",
       "<tr>\n",
       "  <th>Model:</th>                    <td>OLS</td>        <th>  Adj. R-squared:    </th> <td>   0.003</td>\n",
       "</tr>\n",
       "<tr>\n",
       "  <th>No. Observations:</th>       <td>  3589</td>       <th>  F-statistic:       </th> <td>   12.78</td>\n",
       "</tr>\n",
       "<tr>\n",
       "  <th>Covariance Type:</th>       <td>nonrobust</td>     <th>  Prob (F-statistic):</th> <td>0.000355</td>\n",
       "</tr>\n",
       "</table>\n",
       "<table class=\"simpletable\">\n",
       "<tr>\n",
       "       <td></td>         <th>coef</th>     <th>std err</th>      <th>t</th>      <th>P>|t|</th>  <th>[0.025</th>    <th>0.975]</th>  \n",
       "</tr>\n",
       "<tr>\n",
       "  <th>Intercept</th>  <td>  -25.1461</td> <td>    0.220</td> <td> -114.428</td> <td> 0.000</td> <td>  -25.577</td> <td>  -24.715</td>\n",
       "</tr>\n",
       "<tr>\n",
       "  <th>russian_tv</th> <td>    1.7826</td> <td>    0.499</td> <td>    3.575</td> <td> 0.000</td> <td>    0.805</td> <td>    2.760</td>\n",
       "</tr>\n",
       "</table><br/><br/>Notes:<br/>[1] Standard Errors assume that the covariance matrix of the errors is correctly specified."
      ],
      "text/plain": [
       "<class 'statsmodels.iolib.summary.Summary'>\n",
       "\"\"\"\n",
       "                            OLS Regression Results                            \n",
       "==============================================================================\n",
       "Dep. Variable:     pro_russian_change   R-squared:                       0.004\n",
       "Model:                            OLS   Adj. R-squared:                  0.003\n",
       "No. Observations:                3589   F-statistic:                     12.78\n",
       "Covariance Type:            nonrobust   Prob (F-statistic):           0.000355\n",
       "==============================================================================\n",
       "                 coef    std err          t      P>|t|      [0.025      0.975]\n",
       "------------------------------------------------------------------------------\n",
       "Intercept    -25.1461      0.220   -114.428      0.000     -25.577     -24.715\n",
       "russian_tv     1.7826      0.499      3.575      0.000       0.805       2.760\n",
       "==============================================================================\n",
       "\n",
       "Notes:\n",
       "[1] Standard Errors assume that the covariance matrix of the errors is correctly specified.\n",
       "\"\"\""
      ]
     },
     "execution_count": 35,
     "metadata": {},
     "output_type": "execute_result"
    }
   ],
   "source": [
    "model = smf.ols('pro_russian_change ~ russian_tv', data=uap).fit()\n",
    "\n",
    "# print the summary which includes coefficients\n",
    "model.summary(slim=True)"
   ]
  },
  {
   "cell_type": "markdown",
   "id": "0896ebcf",
   "metadata": {},
   "source": [
    "#### Fitted linear model            \n",
    "$\\widehat{pro-russian-change}$ = -25.1461 + 1.7826 _russian_tv_ "
   ]
  },
  {
   "cell_type": "markdown",
   "id": "fa749a87",
   "metadata": {},
   "source": [
    "Receiving Russian TV (as compared to non receiving it) increased the change in the precinct-level vote share received by pro-Russian parties by by $\\approx 1.78$ percentage points, on average."
   ]
  },
  {
   "cell_type": "markdown",
   "id": "a310fb8c",
   "metadata": {},
   "source": [
    "### Answer: Pro-Russian parties experienced smaller vote share losses in precincts with Russian TV reception.\n",
    "\n",
    "The validity of the above conclusion depends on the absence of confounding variables."
   ]
  },
  {
   "cell_type": "markdown",
   "id": "4e018444",
   "metadata": {},
   "source": [
    "-----"
   ]
  },
  {
   "cell_type": "markdown",
   "id": "eabf9b9c",
   "metadata": {},
   "source": [
    "## Control for confounders using a multiple linear regression model"
   ]
  },
  {
   "cell_type": "markdown",
   "id": "0dd1d551",
   "metadata": {},
   "source": [
    "### Identify confounder"
   ]
  },
  {
   "cell_type": "code",
   "execution_count": 27,
   "id": "c6cb7c00",
   "metadata": {},
   "outputs": [
    {
     "data": {
      "text/html": [
       "<div>\n",
       "<style scoped>\n",
       "    .dataframe tbody tr th:only-of-type {\n",
       "        vertical-align: middle;\n",
       "    }\n",
       "\n",
       "    .dataframe tbody tr th {\n",
       "        vertical-align: top;\n",
       "    }\n",
       "\n",
       "    .dataframe thead th {\n",
       "        text-align: right;\n",
       "    }\n",
       "</style>\n",
       "<table border=\"1\" class=\"dataframe\">\n",
       "  <thead>\n",
       "    <tr style=\"text-align: right;\">\n",
       "      <th></th>\n",
       "      <th>within_25km</th>\n",
       "      <th>russian_tv</th>\n",
       "    </tr>\n",
       "  </thead>\n",
       "  <tbody>\n",
       "    <tr>\n",
       "      <th>within_25km</th>\n",
       "      <td>1.000000</td>\n",
       "      <td>0.531785</td>\n",
       "    </tr>\n",
       "    <tr>\n",
       "      <th>russian_tv</th>\n",
       "      <td>0.531785</td>\n",
       "      <td>1.000000</td>\n",
       "    </tr>\n",
       "  </tbody>\n",
       "</table>\n",
       "</div>"
      ],
      "text/plain": [
       "             within_25km  russian_tv\n",
       "within_25km     1.000000    0.531785\n",
       "russian_tv      0.531785    1.000000"
      ]
     },
     "execution_count": 27,
     "metadata": {},
     "output_type": "execute_result"
    }
   ],
   "source": [
    "uap[['within_25km','russian_tv']].corr()"
   ]
  },
  {
   "cell_type": "markdown",
   "id": "a0ed83f1",
   "metadata": {},
   "source": [
    "The correlation coefficient between the two variables is 0.53. 'within_25km' and 'russian_tv' are moderately correlated."
   ]
  },
  {
   "cell_type": "code",
   "execution_count": 28,
   "id": "5a936d1d",
   "metadata": {},
   "outputs": [
    {
     "data": {
      "text/html": [
       "<div>\n",
       "<style scoped>\n",
       "    .dataframe tbody tr th:only-of-type {\n",
       "        vertical-align: middle;\n",
       "    }\n",
       "\n",
       "    .dataframe tbody tr th {\n",
       "        vertical-align: top;\n",
       "    }\n",
       "\n",
       "    .dataframe thead th {\n",
       "        text-align: right;\n",
       "    }\n",
       "</style>\n",
       "<table border=\"1\" class=\"dataframe\">\n",
       "  <thead>\n",
       "    <tr style=\"text-align: right;\">\n",
       "      <th>russian_tv</th>\n",
       "      <th>0</th>\n",
       "      <th>1</th>\n",
       "      <th>All precincts</th>\n",
       "    </tr>\n",
       "    <tr>\n",
       "      <th>within_25km</th>\n",
       "      <th></th>\n",
       "      <th></th>\n",
       "      <th></th>\n",
       "    </tr>\n",
       "  </thead>\n",
       "  <tbody>\n",
       "    <tr>\n",
       "      <th>0</th>\n",
       "      <td>2725</td>\n",
       "      <td>321</td>\n",
       "      <td>3046</td>\n",
       "    </tr>\n",
       "    <tr>\n",
       "      <th>1</th>\n",
       "      <td>167</td>\n",
       "      <td>376</td>\n",
       "      <td>543</td>\n",
       "    </tr>\n",
       "    <tr>\n",
       "      <th>All precincts</th>\n",
       "      <td>2892</td>\n",
       "      <td>697</td>\n",
       "      <td>3589</td>\n",
       "    </tr>\n",
       "  </tbody>\n",
       "</table>\n",
       "</div>"
      ],
      "text/plain": [
       "russian_tv        0    1  All precincts\n",
       "within_25km                            \n",
       "0              2725  321           3046\n",
       "1               167  376            543\n",
       "All precincts  2892  697           3589"
      ]
     },
     "execution_count": 28,
     "metadata": {},
     "output_type": "execute_result"
    }
   ],
   "source": [
    "# create two-way table of frequencies\n",
    "pd.crosstab(uap['within_25km'], uap['russian_tv'], margins=True, margins_name='All precincts')"
   ]
  },
  {
   "cell_type": "code",
   "execution_count": 29,
   "id": "506ac1b8",
   "metadata": {},
   "outputs": [
    {
     "data": {
      "text/html": [
       "<div>\n",
       "<style scoped>\n",
       "    .dataframe tbody tr th:only-of-type {\n",
       "        vertical-align: middle;\n",
       "    }\n",
       "\n",
       "    .dataframe tbody tr th {\n",
       "        vertical-align: top;\n",
       "    }\n",
       "\n",
       "    .dataframe thead th {\n",
       "        text-align: right;\n",
       "    }\n",
       "</style>\n",
       "<table border=\"1\" class=\"dataframe\">\n",
       "  <thead>\n",
       "    <tr style=\"text-align: right;\">\n",
       "      <th>russian_tv</th>\n",
       "      <th>0</th>\n",
       "      <th>1</th>\n",
       "    </tr>\n",
       "    <tr>\n",
       "      <th>within_25km</th>\n",
       "      <th></th>\n",
       "      <th></th>\n",
       "    </tr>\n",
       "  </thead>\n",
       "  <tbody>\n",
       "    <tr>\n",
       "      <th>0</th>\n",
       "      <td>89.5</td>\n",
       "      <td>10.5</td>\n",
       "    </tr>\n",
       "    <tr>\n",
       "      <th>1</th>\n",
       "      <td>30.8</td>\n",
       "      <td>69.2</td>\n",
       "    </tr>\n",
       "    <tr>\n",
       "      <th>All precincts</th>\n",
       "      <td>80.6</td>\n",
       "      <td>19.4</td>\n",
       "    </tr>\n",
       "  </tbody>\n",
       "</table>\n",
       "</div>"
      ],
      "text/plain": [
       "russian_tv        0     1\n",
       "within_25km              \n",
       "0              89.5  10.5\n",
       "1              30.8  69.2\n",
       "All precincts  80.6  19.4"
      ]
     },
     "execution_count": 29,
     "metadata": {},
     "output_type": "execute_result"
    }
   ],
   "source": [
    "round(pd.crosstab(uap['within_25km'], uap['russian_tv'], margins=True, \n",
    "                  margins_name='All precincts', normalize='index') * 100, 1)"
   ]
  },
  {
   "cell_type": "markdown",
   "id": "7461bf9e",
   "metadata": {},
   "source": [
    "Among precincts located within 25 km of the border, about 62% receive Russian TV. In contrast, among precincts located more than 25 km away from the border, about 11% receive Russian TV. We can conclude that compared to Ukrainians living further away from the border, those living very close to it are more likely to receive Russian TV. \n",
    "\n",
    "Living within 25 km from the border affects the treatment variable 'russian_tv.'"
   ]
  },
  {
   "cell_type": "code",
   "execution_count": 30,
   "id": "293a3682",
   "metadata": {
    "scrolled": true
   },
   "outputs": [
    {
     "data": {
      "text/html": [
       "<div>\n",
       "<style scoped>\n",
       "    .dataframe tbody tr th:only-of-type {\n",
       "        vertical-align: middle;\n",
       "    }\n",
       "\n",
       "    .dataframe tbody tr th {\n",
       "        vertical-align: top;\n",
       "    }\n",
       "\n",
       "    .dataframe thead th {\n",
       "        text-align: right;\n",
       "    }\n",
       "</style>\n",
       "<table border=\"1\" class=\"dataframe\">\n",
       "  <thead>\n",
       "    <tr style=\"text-align: right;\">\n",
       "      <th></th>\n",
       "      <th>within_25km</th>\n",
       "      <th>pro_russian_change</th>\n",
       "    </tr>\n",
       "  </thead>\n",
       "  <tbody>\n",
       "    <tr>\n",
       "      <th>within_25km</th>\n",
       "      <td>1.000000</td>\n",
       "      <td>-0.285646</td>\n",
       "    </tr>\n",
       "    <tr>\n",
       "      <th>pro_russian_change</th>\n",
       "      <td>-0.285646</td>\n",
       "      <td>1.000000</td>\n",
       "    </tr>\n",
       "  </tbody>\n",
       "</table>\n",
       "</div>"
      ],
      "text/plain": [
       "                    within_25km  pro_russian_change\n",
       "within_25km            1.000000           -0.285646\n",
       "pro_russian_change    -0.285646            1.000000"
      ]
     },
     "execution_count": 30,
     "metadata": {},
     "output_type": "execute_result"
    }
   ],
   "source": [
    "uap[['within_25km','pro_russian_change']].corr()"
   ]
  },
  {
   "cell_type": "markdown",
   "id": "b3baa3ec",
   "metadata": {},
   "source": [
    "A correlation coefficient of -0.29 indicates a moderate negative linear relationship between the two variables. This means that there is a noticeable trend. However, the strength of this relationship is considered moderate."
   ]
  },
  {
   "cell_type": "markdown",
   "id": "66916928",
   "metadata": {},
   "source": [
    "Consider the variable 'within_25km' as a confounder."
   ]
  },
  {
   "cell_type": "markdown",
   "id": "33ddac77",
   "metadata": {},
   "source": [
    "### Fit a multiple linear regression model to estimate the average treatment effect."
   ]
  },
  {
   "cell_type": "code",
   "execution_count": 36,
   "id": "5ff1b58a",
   "metadata": {
    "scrolled": true
   },
   "outputs": [
    {
     "data": {
      "text/html": [
       "<table class=\"simpletable\">\n",
       "<caption>OLS Regression Results</caption>\n",
       "<tr>\n",
       "  <th>Dep. Variable:</th>    <td>pro_russian_change</td> <th>  R-squared:         </th> <td>   0.144</td> \n",
       "</tr>\n",
       "<tr>\n",
       "  <th>Model:</th>                    <td>OLS</td>        <th>  Adj. R-squared:    </th> <td>   0.143</td> \n",
       "</tr>\n",
       "<tr>\n",
       "  <th>No. Observations:</th>       <td>  3589</td>       <th>  F-statistic:       </th> <td>   301.5</td> \n",
       "</tr>\n",
       "<tr>\n",
       "  <th>Covariance Type:</th>       <td>nonrobust</td>     <th>  Prob (F-statistic):</th> <td>9.26e-122</td>\n",
       "</tr>\n",
       "</table>\n",
       "<table class=\"simpletable\">\n",
       "<tr>\n",
       "       <td></td>          <th>coef</th>     <th>std err</th>      <th>t</th>      <th>P>|t|</th>  <th>[0.025</th>    <th>0.975]</th>  \n",
       "</tr>\n",
       "<tr>\n",
       "  <th>Intercept</th>   <td>  -24.3022</td> <td>    0.207</td> <td> -117.593</td> <td> 0.000</td> <td>  -24.707</td> <td>  -23.897</td>\n",
       "</tr>\n",
       "<tr>\n",
       "  <th>russian_tv</th>  <td>    8.8223</td> <td>    0.546</td> <td>   16.163</td> <td> 0.000</td> <td>    7.752</td> <td>    9.892</td>\n",
       "</tr>\n",
       "<tr>\n",
       "  <th>within_25km</th> <td>  -14.6139</td> <td>    0.603</td> <td>  -24.252</td> <td> 0.000</td> <td>  -15.795</td> <td>  -13.432</td>\n",
       "</tr>\n",
       "</table><br/><br/>Notes:<br/>[1] Standard Errors assume that the covariance matrix of the errors is correctly specified."
      ],
      "text/plain": [
       "<class 'statsmodels.iolib.summary.Summary'>\n",
       "\"\"\"\n",
       "                            OLS Regression Results                            \n",
       "==============================================================================\n",
       "Dep. Variable:     pro_russian_change   R-squared:                       0.144\n",
       "Model:                            OLS   Adj. R-squared:                  0.143\n",
       "No. Observations:                3589   F-statistic:                     301.5\n",
       "Covariance Type:            nonrobust   Prob (F-statistic):          9.26e-122\n",
       "===============================================================================\n",
       "                  coef    std err          t      P>|t|      [0.025      0.975]\n",
       "-------------------------------------------------------------------------------\n",
       "Intercept     -24.3022      0.207   -117.593      0.000     -24.707     -23.897\n",
       "russian_tv      8.8223      0.546     16.163      0.000       7.752       9.892\n",
       "within_25km   -14.6139      0.603    -24.252      0.000     -15.795     -13.432\n",
       "===============================================================================\n",
       "\n",
       "Notes:\n",
       "[1] Standard Errors assume that the covariance matrix of the errors is correctly specified.\n",
       "\"\"\""
      ]
     },
     "execution_count": 36,
     "metadata": {},
     "output_type": "execute_result"
    }
   ],
   "source": [
    "model = smf.ols('pro_russian_change ~ russian_tv + within_25km', data=uap).fit()\n",
    "\n",
    "# print the summary which includes coefficients\n",
    "model.summary(slim=True)"
   ]
  },
  {
   "cell_type": "markdown",
   "id": "bd24e7ca",
   "metadata": {},
   "source": [
    "#### Fitted linear model            \n",
    "$\\widehat{pro-russian-change}$ = -24.3022 + 8.8223 _russian_tv_ -14.6139 _within_25km_"
   ]
  },
  {
   "cell_type": "markdown",
   "id": "66cd1e09",
   "metadata": {},
   "source": [
    "#### When we hold living very close to the border constant, receiving Russian TV (as compared to not receiving it) increased the change in the precinct-level vote share received by pro-Russian party by $\\approx$ 9 percentage points, on average."
   ]
  },
  {
   "cell_type": "markdown",
   "id": "6b9ae527",
   "metadata": {},
   "source": [
    "The accuracy of this causal interpretation hinges on whether residing extremely close to the border is the sole confounding factor. If other confounding variables exist, the validity of this estimate of the average treatment effect would be compromised."
   ]
  },
  {
   "cell_type": "markdown",
   "id": "659ae747",
   "metadata": {},
   "source": [
    "-----"
   ]
  },
  {
   "cell_type": "code",
   "execution_count": null,
   "id": "3b9f6b70",
   "metadata": {},
   "outputs": [],
   "source": []
  }
 ],
 "metadata": {
  "kernelspec": {
   "display_name": "Python 3 (ipykernel)",
   "language": "python",
   "name": "python3"
  },
  "language_info": {
   "codemirror_mode": {
    "name": "ipython",
    "version": 3
   },
   "file_extension": ".py",
   "mimetype": "text/x-python",
   "name": "python",
   "nbconvert_exporter": "python",
   "pygments_lexer": "ipython3",
   "version": "3.11.3"
  }
 },
 "nbformat": 4,
 "nbformat_minor": 5
}
